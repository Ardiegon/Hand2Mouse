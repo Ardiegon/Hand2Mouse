{
 "cells": [
  {
   "cell_type": "code",
   "execution_count": 11,
   "metadata": {},
   "outputs": [],
   "source": [
    "import mouse"
   ]
  },
  {
   "cell_type": "code",
   "execution_count": 37,
   "metadata": {},
   "outputs": [
    {
     "name": "stdout",
     "output_type": "stream",
     "text": [
      "(821, 235)\n",
      "(821, 335)\n"
     ]
    }
   ],
   "source": [
    "pos = mouse.get_position()\n",
    "print(pos)\n",
    "mouse.move(0,100, absolute=False, duration=0)\n",
    "mouse.click('right')\n",
    "pos = mouse.get_position()\n",
    "print(pos)\n"
   ]
  }
 ],
 "metadata": {
  "kernelspec": {
   "display_name": "Python 3.7.13 ('Hand2Mouse')",
   "language": "python",
   "name": "python3"
  },
  "language_info": {
   "codemirror_mode": {
    "name": "ipython",
    "version": 3
   },
   "file_extension": ".py",
   "mimetype": "text/x-python",
   "name": "python",
   "nbconvert_exporter": "python",
   "pygments_lexer": "ipython3",
   "version": "3.7.13"
  },
  "orig_nbformat": 4,
  "vscode": {
   "interpreter": {
    "hash": "f4d68502db7f567ae1c955136f48af54c04aeba87187db468cefe1429cdcb018"
   }
  }
 },
 "nbformat": 4,
 "nbformat_minor": 2
}
